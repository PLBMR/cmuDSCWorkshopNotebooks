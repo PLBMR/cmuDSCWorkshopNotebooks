{
 "cells": [
  {
   "cell_type": "markdown",
   "metadata": {},
   "source": [
    "# OkCupid: Dataset Analysis\n",
    "\n",
    "This is a notebook I am using to test out the feasibility of using the [OkCupid Dataset](https://github.com/rudeboybert/JSE_OkCupid) for our first workshop."
   ]
  },
  {
   "cell_type": "code",
   "execution_count": 10,
   "metadata": {
    "collapsed": true
   },
   "outputs": [],
   "source": [
    "#imports\n",
    "import pandas as pd\n",
    "import seaborn as sns\n",
    "import matplotlib.pyplot as plt\n",
    "import numpy as np\n",
    "from IPython.display import display, HTML\n",
    "\n",
    "#constants\n",
    "%matplotlib inline\n",
    "sns.set_style(\"dark\")\n",
    "sigLev = 3\n",
    "figWidth = figHeight = 5"
   ]
  },
  {
   "cell_type": "markdown",
   "metadata": {},
   "source": [
    "# Dataset Information\n",
    "\n",
    "Before starting with the analysis of this dataset, it will be important to study the codebook of variables in ```data/JSE_OkCupid/okcupid_codebook.txt```. Some important notes I found from viewing this codebook:\n",
    "\n",
    "* Contains Profiles from 25 Mile Radius outside of San Francisco, with at least one profile picture.\n",
    "\n",
    "* Data Scraped in 2012.\n",
    "\n",
    "* Contains $n = 59946$ observations; This is a mid-sized dataset, with a lot of information, although nont big-data unweildy.\n",
    "\n",
    "* Contains a mix of different demographic and lifestyle data, along with some textual data in the ```essay``` variables.\n",
    "\n",
    "With that in mind, let's get started with the data."
   ]
  },
  {
   "cell_type": "code",
   "execution_count": 3,
   "metadata": {
    "collapsed": false
   },
   "outputs": [],
   "source": [
    "okCupidFrame = pd.read_csv(\"data/JSE_OkCupid/profiles.csv\")"
   ]
  },
  {
   "cell_type": "markdown",
   "metadata": {},
   "source": [
    "# Assessing Data Quality\n",
    "\n",
    "As is usual for starting data analyses, let's assess some aspects of data quality."
   ]
  },
  {
   "cell_type": "code",
   "execution_count": 4,
   "metadata": {
    "collapsed": true
   },
   "outputs": [],
   "source": [
    "numObservations = okCupidFrame.shape[0]\n",
    "numFeatures = okCupidFrame.shape[1]"
   ]
  },
  {
   "cell_type": "markdown",
   "metadata": {
    "variables": {
     "numFeatures": "31",
     "numObservations": "59946"
    }
   },
   "source": [
    "As discussed in the codebook, we see that we have {{numObservations}} profiles in this dataset. We also have {{numFeatures}} variables in this dataset, and given that some of these variables are language data (see [the dataset's codebook](data/JSE_OkCupid/okcupid_codebook.txt)), this dataset can be very high-dimensional if we choose to transform it in that manner.\n",
    "\n",
    "Let us study how many missing values we have in this dataset."
   ]
  },
  {
   "cell_type": "code",
   "execution_count": 13,
   "metadata": {
    "collapsed": false
   },
   "outputs": [
    {
     "data": {
      "text/plain": [
       "age                0\n",
       "body_type       5296\n",
       "diet           24395\n",
       "drinks          2985\n",
       "drugs          14080\n",
       "education       6628\n",
       "essay0          5485\n",
       "essay1          7571\n",
       "essay2          9638\n",
       "essay3         11476\n",
       "essay4         10537\n",
       "essay5         10847\n",
       "essay6         13771\n",
       "essay7         12450\n",
       "essay8         19214\n",
       "essay9         12602\n",
       "ethnicity       5680\n",
       "height             3\n",
       "income             0\n",
       "job             8198\n",
       "last_online        0\n",
       "location           0\n",
       "offspring      35561\n",
       "orientation        0\n",
       "pets           19921\n",
       "religion       20226\n",
       "sex                0\n",
       "sign           11056\n",
       "smokes          5512\n",
       "speaks            50\n",
       "status             0\n",
       "dtype: int64"
      ]
     },
     "metadata": {},
     "output_type": "display_data"
    }
   ],
   "source": [
    "#make numMissing for a given column\n",
    "def numMissing(col):\n",
    "    #helper that checks the number of observations missing from a given col\n",
    "    missingRows = col[col.isnull()]\n",
    "    return missingRows.shape[0]\n",
    "#then apply over our feature set\n",
    "missingSummaryFrame = okCupidFrame.apply(numMissing,axis = 0)\n",
    "display(missingSummaryFrame)"
   ]
  },
  {
   "cell_type": "markdown",
   "metadata": {},
   "source": [
    "_Table 1: Counts of the number of observations missing per variable._\n",
    "\n",
    "We see that we have variables with many missing variables, and this is especially consistent with the language data (i.e. the ```essay``` variables). This may suggest that we want to target a particular variable that generally has fewer misisng observations. Let us try out targeting the ```age``` variable."
   ]
  },
  {
   "cell_type": "markdown",
   "metadata": {},
   "source": [
    "# Summary Statistics and EDA\n",
    "\n",
    "Let us start by studying the distribution of our target variable ```age``` and some of the potentially relevant variables for determining age of someone on OkCupid."
   ]
  },
  {
   "cell_type": "code",
   "execution_count": 15,
   "metadata": {
    "collapsed": false
   },
   "outputs": [
    {
     "data": {
      "text/plain": [
       "<matplotlib.text.Text at 0x10965ad50>"
      ]
     },
     "execution_count": 15,
     "metadata": {},
     "output_type": "execute_result"
    },
    {
     "data": {
      "image/png": "[encoded data removed]",
      "text/plain": [
       "<matplotlib.figure.Figure at 0x108d01c10>"
      ]
     },
     "metadata": {},
     "output_type": "display_data"
    }
   ],
   "source": [
    "#plot age\n",
    "plt.hist(okCupidFrame[\"age\"])\n",
    "#then make some labels\n",
    "plt.xlabel(\"Age (In Years)\")\n",
    "plt.ylabel(\"Count\")\n",
    "plt.title(\"Distribution of Age\")"
   ]
  },
  {
   "cell_type": "markdown",
   "metadata": {},
   "source": [
    "_Figure 1: Distribution of Age._\n",
    "\n",
    "We see that the distribution of age is fairly young, with most people being around $20$ to $35$ years old. We see that the distribution is relatively right-skewed, with fewer observations among middle-aged individuals. This may have an effect towards a relatively imbalanced regression.\n",
    "\n",
    "Perhaps income might be useful in determining age, as generally older persons tend to have higher incomes from being farther in their careers. Let us study the distribution of income."
   ]
  },
  {
   "cell_type": "code",
   "execution_count": 16,
   "metadata": {
    "collapsed": false
   },
   "outputs": [
    {
     "data": {
      "text/plain": [
       "<matplotlib.text.Text at 0x1098cced0>"
      ]
     },
     "execution_count": 16,
     "metadata": {},
     "output_type": "execute_result"
    },
    {
     "data": {
      "image/png": "[encoded data removed]",
      "text/plain": [
       "<matplotlib.figure.Figure at 0x109645950>"
      ]
     },
     "metadata": {},
     "output_type": "display_data"
    }
   ],
   "source": [
    "plt.hist(okCupidFrame[\"income\"])\n",
    "plt.xlabel(\"Income (In USD)\")\n",
    "plt.ylabel(\"Count\")\n",
    "plt.title(\"Distribution of Income\")"
   ]
  },
  {
   "cell_type": "code",
   "execution_count": null,
   "metadata": {
    "collapsed": true
   },
   "outputs": [],
   "source": []
  }
 ],
 "metadata": {
  "kernelspec": {
   "display_name": "Python 2",
   "language": "python",
   "name": "python2"
  },
  "language_info": {
   "codemirror_mode": {
    "name": "ipython",
    "version": 2
   },
   "file_extension": ".py",
   "mimetype": "text/x-python",
   "name": "python",
   "nbconvert_exporter": "python",
   "pygments_lexer": "ipython2",
   "version": "2.7.10"
  },
  "latex_envs": {
   "bibliofile": "biblio.bib",
   "cite_by": "apalike",
   "current_citInitial": 1,
   "eqLabelWithNumbers": true,
   "eqNumInitial": 0
  },
  "nav_menu": {},
  "toc": {
   "navigate_menu": true,
   "number_sections": true,
   "sideBar": true,
   "threshold": 6,
   "toc_cell": false,
   "toc_section_display": "block",
   "toc_window_display": false
  }
 },
 "nbformat": 4,
 "nbformat_minor": 1
}
