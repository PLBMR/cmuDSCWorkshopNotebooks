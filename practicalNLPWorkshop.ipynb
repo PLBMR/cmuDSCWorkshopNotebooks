{
 "cells": [
  {
   "cell_type": "markdown",
   "metadata": {},
   "source": [
    "# Carnegie Mellon Data Science Club : Practical Natural Language Processing\n",
    "\n",
    "_By [Michael Rosenberg](mailto:mmrosenb@andrew.cmu.edu)._\n",
    "\n",
    "_**Description**: This notebook contains an introduction to document analysis with OkCupid data. It is designed to be used at a workshop for introducing individuals to natural language processing._"
   ]
  },
  {
   "cell_type": "markdown",
   "metadata": {},
   "source": [
    "## Some Initial Setup"
   ]
  },
  {
   "cell_type": "markdown",
   "metadata": {},
   "source": [
    "_(Note: If you are using this notebook locally, you can likely skip this step. This step is primarily intended for individuals who want to skip installing all features and want to immediately work on this notebook in the cloud.)_\n",
    "\n",
    "Before we get started, we have a couple things to set up in case you would like to follow along without many installations.\n",
    "\n",
    "1. I am using the **IBM Data Science Experience**, a platform used for collaborating on data analyses across an organization. We can visit the data science experience here: http://datascience.ibm.com\n",
    "\n",
    "2. Set up an account by clicking \"Sign Up\" and moving through the workflow.\n",
    "\n",
    "3. Once you are logged in, click the **Object Storage** section to provide available containers for loading in data assets.\n",
    "\n",
    "4. Go to **My Projects** and click on the **create project** section to initialize a new project. Give your project a name and a description. We will be using ```python``` 2 for this workshop. The ```spark``` version does not really matter, since we will not be using ```spark``` actively. Give your data asset container a name.\n",
    "\n",
    "5. You will now be within your new project dashboard. You can start a new notebook by clicking the **add notebook** button. We will be using ```python``` 2 for this workshop, as discussed before.\n",
    "\n",
    "Also, to clear up potential warnings that we aren't too concerned with in this context, run the following lines of code:"
   ]
  },
  {
   "cell_type": "code",
   "execution_count": 1,
   "metadata": {
    "collapsed": true
   },
   "outputs": [],
   "source": [
    "import warnings\n",
    "warnings.filterwarnings(\"ignore\")"
   ]
  },
  {
   "cell_type": "markdown",
   "metadata": {},
   "source": [
    "## Introduction: What Is Natural Language Processing?"
   ]
  },
  {
   "cell_type": "markdown",
   "metadata": {},
   "source": [
    "\"Natural Language Processing\", or NLP for the sake of having an acronym, is the combination of two subphrases. \n",
    "\n",
    "* \"Natural Language\" refers to a system of communication that has been crafted over the centuries by cultures, faiths, nations, and empires. This term is meant to differentiate it from a language that has been artificially crafted by one community (for example, ```python```).\n",
    "\n",
    "* \"Language Processing\" refers to the methods and technologies developed to encode language, edit language, and interpret language. In artificial languages such as ```Java```, processing the language can be translating a script into bytecode for compilation. In natural languages, this could be a translation method such as the Rosetta Stone.\n",
    "\n",
    "Together, \"Natural Language Processing\" refers to the methods and technologies used to infer properties and components of languages in the spoken and written word. Some of these methods include:\n",
    "\n",
    "* Translating a sentence from English to French.\n",
    "\n",
    "* Having a personal assistant respond to your spoken phrases.\n",
    "\n",
    "* Having an artificial intelligence find the logical implications of a written statement found to be true.\n",
    "\n",
    "Today, we will be working on a simpler method: using the language of a writer to predict the age of that writer."
   ]
  },
  {
   "cell_type": "markdown",
   "metadata": {},
   "source": [
    "## A note for 15-112 Students"
   ]
  },
  {
   "cell_type": "markdown",
   "metadata": {},
   "source": [
    "In Fundamentals of Programming and Computer Science (15-112), you are taught a way of writing ```python``` (and code in general) for the purpose of writing software. In industry, there are many reasons for writing code, and you may come across instances where you are not writing code specifically meant for the next iPhone app.\n",
    "\n",
    "In this notebook, I will show you the ways of structuring code in a way that is designed for data analysis and model selection. Thus, there will be some coding practices that are somewhat different - and potentially discourage - in the 15-112 curriculum. In particular, the use of global variables is considered rather standard in the practice of data mining.\n",
    "\n",
    "I would like you to be aware that some of these practices in this notebook may need adaptation before leveraged in your 15-112 projects. Most of all, remember to stay within style rules of a course when practicing data science."
   ]
  },
  {
   "cell_type": "markdown",
   "metadata": {},
   "source": [
    "<a id=\"metadataAnalysis\" />"
   ]
  },
  {
   "cell_type": "markdown",
   "metadata": {},
   "source": [
    "## Metadata Analysis"
   ]
  },
  {
   "cell_type": "markdown",
   "metadata": {},
   "source": [
    "Before beginning to explore a dataset for prediction and analysis, it is essential that you study how the data is generated in order to inform your exploration.\n",
    "\n",
    "Our dataset is a set of dating profiles from [OkCupid](https://www.okcupid.com), a dating website that targets young adults in a way that parallels dating websites such as [Match.com](match.com) and [eHarmony](eharmony.com). The data was transcribed from a web scrape and presented [as a dataset designed for introductory statistics and data science courses](https://github.com/rudeboybert/JSE_OkCupid).\n",
    "\n",
    "This dataset has many features, but according to the [documentation](data/JSE_OkCupid/okcupid_codebook.txt), the ```essay``` variables contain all language data inputted by users of OkCupid and the ```age``` variable contains the age of the user. For the sake of simplification in our analysis, we will limit our analysis the **self-summary** variable (```essay0```) and the **age** variable (```age```).\n",
    "\n",
    "Things that we should note:\n",
    "\n",
    "* This dataset comes from web scrape, and while transcribed to some degree into a data frame by the data collectors, it is likely to be filled with many assets from the web.\n",
    "\n",
    "* This dataset is primarily user-inputted. This may mean that we will see spelling mistakes related to human error, and that we will see a vocabulary created by the users rather than by the platform owner (OkCupid)."
   ]
  },
  {
   "cell_type": "markdown",
   "metadata": {},
   "source": [
    "## Scanning a document"
   ]
  },
  {
   "cell_type": "markdown",
   "metadata": {},
   "source": [
    "Let us start by loading in the dataset of profiles. This is a ```.csv``` file, which stands for Comma-Separated Values. If we take a look at the [text representation of the dataset](data/JSE_OkCupid/profiles.csv), we see that there is a set of column keys in the first row of the ```.csv``` file, and each row below it refers to a filled-in observation of the dataset. In this context, a \"filled-in observation\" is a transcribed OkCupid profile.\n",
    "\n",
    "Typically, we can load in a ```.csv``` file using the ```csv``` package available in base ```Python```. However, for the sake of having a more elegant coding process, I generally use the ```pandas``` package to manipulative large dataframes. You can refer to the [reference materials](#refMaterials) for instructions on how to install ```pandas```."
   ]
  },
  {
   "cell_type": "code",
   "execution_count": 2,
   "metadata": {
    "collapsed": false
   },
   "outputs": [],
   "source": [
    "import pandas as pd"
   ]
  },
  {
   "cell_type": "code",
   "execution_count": 3,
   "metadata": {
    "collapsed": true
   },
   "outputs": [],
   "source": [
    "okCupidFrame = pd.read_csv(\"data/JSE_OkCupid/profiles.csv\")"
   ]
  },
  {
   "cell_type": "markdown",
   "metadata": {},
   "source": [
    "Let us take a look at the dimension of this data frame. This is held in the ```shape``` attribute of the dataframe."
   ]
  },
  {
   "cell_type": "code",
   "execution_count": 4,
   "metadata": {
    "collapsed": false
   },
   "outputs": [
    {
     "name": "stdout",
     "output_type": "stream",
     "text": [
      "Number of Rows: 59946\n",
      "Number of Columns: 31\n"
     ]
    }
   ],
   "source": [
    "numRows = okCupidFrame.shape[0]\n",
    "numCols = okCupidFrame.shape[1]\n",
    "print \"Number of Rows:\", numRows\n",
    "print \"Number of Columns:\", numCols"
   ]
  },
  {
   "cell_type": "markdown",
   "metadata": {
    "variables": {
     "numCols": "31",
     "numRows": "59946"
    }
   },
   "source": [
    "We see that there are 59946 profile observations in this dataset, which is a sizable amount of profiles to consider. We also see that each profile contains 31 features, many of which were transcribed by the original data collectors. As discussed in the [metadata analysis](#metadataAnalysis), the language-oriented features are found in the ```essay``` variables. For now, let us consider the self summary variable of the profiles contained in the ```essay0``` variable."
   ]
  },
  {
   "cell_type": "code",
   "execution_count": 5,
   "metadata": {
    "collapsed": true
   },
   "outputs": [],
   "source": [
    "selfSummaries = okCupidFrame[\"essay0\"]"
   ]
  },
  {
   "cell_type": "markdown",
   "metadata": {},
   "source": [
    "Let us first check to see if there are any missing values in this column. This will be important for when we want to use these summaries for predictive purposes."
   ]
  },
  {
   "cell_type": "code",
   "execution_count": 6,
   "metadata": {
    "collapsed": false
   },
   "outputs": [
    {
     "name": "stdout",
     "output_type": "stream",
     "text": [
      "The number of entries with null self-summaries is 5485\n"
     ]
    }
   ],
   "source": [
    "#make conditional on which summaries are empty\n",
    "emptySections = selfSummaries[selfSummaries.isnull()]\n",
    "numNullEntries = emptySections.shape[0]\n",
    "print \"The number of entries with null self-summaries is\", numNullEntries"
   ]
  },
  {
   "cell_type": "markdown",
   "metadata": {
    "variables": {
     "numNullEntries": "5485"
    }
   },
   "source": [
    "We see that we have 5485 profiles without self-summaries. For the sake of considering only completed profiles up to the summary, we will filter out observations with ```NaN``` entries for ```essay0```."
   ]
  },
  {
   "cell_type": "code",
   "execution_count": 7,
   "metadata": {
    "collapsed": true
   },
   "outputs": [],
   "source": [
    "#get observations with non-null summaries\n",
    "filteredOkCupidFrame = okCupidFrame[okCupidFrame[\"essay0\"].notnull()]\n",
    "#then reobtain self summaries\n",
    "selfSummaries = filteredOkCupidFrame[\"essay0\"]"
   ]
  },
  {
   "cell_type": "markdown",
   "metadata": {},
   "source": [
    "### Searching and analyzing a single profile"
   ]
  },
  {
   "cell_type": "markdown",
   "metadata": {},
   "source": [
    "The basis of natural language processing comes simply from analyzing a string. In this extent, it is natural to start out analysis by analyzing a single **document**, which is one observation in a language dataset. In this case, our **document** would be a single self-summary."
   ]
  },
  {
   "cell_type": "code",
   "execution_count": 8,
   "metadata": {
    "collapsed": true
   },
   "outputs": [],
   "source": [
    "consideredSummary = selfSummaries[0]"
   ]
  },
  {
   "cell_type": "markdown",
   "metadata": {},
   "source": [
    "Since this is a string, we can read it by a simple ```print``` statement."
   ]
  },
  {
   "cell_type": "code",
   "execution_count": 9,
   "metadata": {
    "collapsed": false
   },
   "outputs": [
    {
     "name": "stdout",
     "output_type": "stream",
     "text": [
      "about me:<br />\n",
      "<br />\n",
      "i would love to think that i was some some kind of intellectual:\n",
      "either the dumbest smart guy, or the smartest dumb guy. can't say i\n",
      "can tell the difference. i love to talk about ideas and concepts. i\n",
      "forge odd metaphors instead of reciting cliches. like the\n",
      "simularities between a friend of mine's house and an underwater\n",
      "salt mine. my favorite word is salt by the way (weird choice i\n",
      "know). to me most things in life are better as metaphors. i seek to\n",
      "make myself a little better everyday, in some productively lazy\n",
      "way. got tired of tying my shoes. considered hiring a five year\n",
      "old, but would probably have to tie both of our shoes... decided to\n",
      "only wear leather shoes dress shoes.<br />\n",
      "<br />\n",
      "about you:<br />\n",
      "<br />\n",
      "you love to have really serious, really deep conversations about\n",
      "really silly stuff. you have to be willing to snap me out of a\n",
      "light hearted rant with a kiss. you don't have to be funny, but you\n",
      "have to be able to make me laugh. you should be able to bend spoons\n",
      "with your mind, and telepathically make me smile while i am still\n",
      "at work. you should love life, and be cool with just letting the\n",
      "wind blow. extra points for reading all this and guessing my\n",
      "favorite video game (no hints given yet). and lastly you have a\n",
      "good attention span.\n"
     ]
    }
   ],
   "source": [
    "print consideredSummary"
   ]
  },
  {
   "cell_type": "markdown",
   "metadata": {},
   "source": [
    "_Figure 1: A self-summary of an individual in our dataset._\n",
    "\n",
    "We can see a couple of things just from looking at this profile:\n",
    "\n",
    "* This man sounds extremely pretentious.\n",
    "\n",
    "* There are some misspellings due to the user-inputted aspects in this self-summary. most notably, the word \"simularities\" should probably be \"similarities.\"\n",
    "\n",
    "* Ther are several ```br``` tags within the document that do not add information to our understanding of the document. These tags are primarily for OkCupid to display the self-summary properly on their website.\n",
    "\n",
    "Thus, before we analyze this dataset, we need to do some data cleansing."
   ]
  },
  {
   "cell_type": "markdown",
   "metadata": {},
   "source": [
    "#### Cleaning and searching with Regular Expression (```regex```)"
   ]
  },
  {
   "cell_type": "markdown",
   "metadata": {
    "collapsed": true
   },
   "source": [
    "Regular Expression is defined as a sequence of characters that defines a search pattern. This search pattern is used to \"find\" and \"find and replace\" certain information in strings through string search algorithms. To give an example, say that I am interested in quantifying the narcissism found in the self-summary above. Perhaps I am interested in the number of times that \"i\" shows up in the summary. We represent this with the simple regular expression search query that accounts for the letter $i$ and then accounts for all potential punctuation that usually follows a lone $i$:\n",
    "\n",
    "```[ \\.,:;?!\\n]i[ \\.,:;?!\\n$]```\n",
    "\n",
    "This expression looks for some measure of punctuation, then an $i$ and then looks for a potential followup punctuation to indicate that is a lone $i$. Theses measures of punctuation can be a space, period, comma, colon, semi-colon, question mark, explanation point, or an end-of-line marker (```$```)."
   ]
  },
  {
   "cell_type": "code",
   "execution_count": 10,
   "metadata": {
    "collapsed": false
   },
   "outputs": [
    {
     "name": "stdout",
     "output_type": "stream",
     "text": [
      "['\\ni ', ' i ', ' i\\n', ' i ', ' i\\n', ' i\\n', ' i ', ' i ']\n"
     ]
    }
   ],
   "source": [
    "import re #regular expression library in base Python\n",
    "#let us compile this for search\n",
    "iRe = re.compile(\"[ \\.,:;?!\\n]i[ \\.,:?!\\n]\")\n",
    "#then find all the times it occurs in the summary\n",
    "iObservanceList = iRe.findall(consideredSummary)\n",
    "print iObservanceList"
   ]
  },
  {
   "cell_type": "code",
   "execution_count": 11,
   "metadata": {
    "collapsed": true
   },
   "outputs": [],
   "source": [
    "numIs = len(iObservanceList)"
   ]
  },
  {
   "cell_type": "markdown",
   "metadata": {
    "variables": {
     "numIs": "8"
    }
   },
   "source": [
    "We see that the speaker refers to himself in terms of \"i\" 8 times in this self-summary. This is actually more reasonable than most people when referring to themselves, but let's try to extend this regular expression to other self-centered terms. We will now search for\n",
    "\n",
    "```[ \\.,:;?!\\n](i|me)[ \\.,:?!\\n]```\n",
    "\n",
    "The ```|``` symbol represents an or operator for in a section. In this context, this regular expression is looking for either \"i\" or \"me\" followed by some punctuation in order to identify lone observations of ```i``` and ```me``` instead of appendages on other words (for example, ```i``` in ```intellectual``` and ```me``` in ```meandering```)."
   ]
  },
  {
   "cell_type": "code",
   "execution_count": 12,
   "metadata": {
    "collapsed": false
   },
   "outputs": [
    {
     "name": "stdout",
     "output_type": "stream",
     "text": [
      "['me', 'i', 'i', 'i', 'i', 'i', 'i', 'me', 'i', 'me', 'me', 'me', 'i']\n"
     ]
    }
   ],
   "source": [
    "selfCenteredRe = re.compile(\"[ \\.,:;?!\\n](i|me)[ \\.,:?!\\n]\")\n",
    "#find all observations of this regular expression\n",
    "selfObsList = selfCenteredRe.findall(consideredSummary)\n",
    "print selfObsList"
   ]
  },
  {
   "cell_type": "code",
   "execution_count": 13,
   "metadata": {
    "collapsed": true,
    "run_control": {
     "marked": false
    }
   },
   "outputs": [],
   "source": [
    "numNarcissisticWords = len(selfObsList)"
   ]
  },
  {
   "cell_type": "markdown",
   "metadata": {
    "variables": {
     "numNarcissisticWords": "13"
    }
   },
   "source": [
    "We see that when we extend our search to include \"me\" as a possible pattern to recognize, we see that the number of self-referrals increases to 13. We can extend this to other aspects of the self-summary, and potentially more interesting patterns we want to find in the language.\n",
    "\n",
    "Regular Expressions can also be used to substitute particular components of the summary for data cleaning purposes. For instance, let us alter the mistake of \"simularities\" as \"similarities\" in the above summary."
   ]
  },
  {
   "cell_type": "code",
   "execution_count": 14,
   "metadata": {
    "collapsed": false
   },
   "outputs": [
    {
     "name": "stdout",
     "output_type": "stream",
     "text": [
      "about me:<br />\n",
      "<br />\n",
      "i would love to think that i was some some kind of intellectual:\n",
      "either the dumbest smart guy, or the smartest dumb guy. can't say i\n",
      "can tell the difference. i love to talk about ideas and concepts. i\n",
      "forge odd metaphors instead of reciting cliches. like the\n",
      "similarities between a friend of mine's house and an underwater\n",
      "salt mine. my favorite word is salt by the way (weird choice i\n",
      "know). to me most things in life are better as metaphors. i seek to\n",
      "make myself a little better everyday, in some productively lazy\n",
      "way. got tired of tying my shoes. considered hiring a five year\n",
      "old, but would probably have to tie both of our shoes... decided to\n",
      "only wear leather shoes dress shoes.<br />\n",
      "<br />\n",
      "about you:<br />\n",
      "<br />\n",
      "you love to have really serious, really deep conversations about\n",
      "really silly stuff. you have to be willing to snap me out of a\n",
      "light hearted rant with a kiss. you don't have to be funny, but you\n",
      "have to be able to make me laugh. you should be able to bend spoons\n",
      "with your mind, and telepathically make me smile while i am still\n",
      "at work. you should love life, and be cool with just letting the\n",
      "wind blow. extra points for reading all this and guessing my\n",
      "favorite video game (no hints given yet). and lastly you have a\n",
      "good attention span.\n"
     ]
    }
   ],
   "source": [
    "#make the re\n",
    "simRe = re.compile(\"simularities\")\n",
    "#then perform a sub\n",
    "filteredSummary = simRe.sub(\"similarities\",consideredSummary)\n",
    "print filteredSummary"
   ]
  },
  {
   "cell_type": "markdown",
   "metadata": {},
   "source": [
    "_Figure 2: The filtered summary after changing the stated spelling issue._\n",
    "\n",
    "As we can see, \"simularities\" was changed to \"similarities\" without us having to find the exact beginning and ending indices for the \"simularities\" mistake. We can continue this cleaning by altering an even larger interpretation issue: the ```br``` tags. These tags are primarily used for OkCupid to understand how to display the text, but they generally are not informative to the summary itself.\n",
    "\n",
    "We will remove these by building the regular expression\n",
    "\n",
    "```<.*>```\n",
    "\n",
    "The ```.``` is meant to represent any character available in the ASCII encoding framework. the ```*``` is meant to represent \"0 or more observations of the prior character or expression.\" In this case, this regular expression is asking to find strings that start with \"<\" and end with \">\" and feature any number of characters in between \"<\" and \">.\""
   ]
  },
  {
   "cell_type": "code",
   "execution_count": 15,
   "metadata": {
    "collapsed": false
   },
   "outputs": [
    {
     "name": "stdout",
     "output_type": "stream",
     "text": [
      "about me:\n",
      "\n",
      "i would love to think that i was some some kind of intellectual:\n",
      "either the dumbest smart guy, or the smartest dumb guy. can't say i\n",
      "can tell the difference. i love to talk about ideas and concepts. i\n",
      "forge odd metaphors instead of reciting cliches. like the\n",
      "similarities between a friend of mine's house and an underwater\n",
      "salt mine. my favorite word is salt by the way (weird choice i\n",
      "know). to me most things in life are better as metaphors. i seek to\n",
      "make myself a little better everyday, in some productively lazy\n",
      "way. got tired of tying my shoes. considered hiring a five year\n",
      "old, but would probably have to tie both of our shoes... decided to\n",
      "only wear leather shoes dress shoes.\n",
      "\n",
      "about you:\n",
      "\n",
      "you love to have really serious, really deep conversations about\n",
      "really silly stuff. you have to be willing to snap me out of a\n",
      "light hearted rant with a kiss. you don't have to be funny, but you\n",
      "have to be able to make me laugh. you should be able to bend spoons\n",
      "with your mind, and telepathically make me smile while i am still\n",
      "at work. you should love life, and be cool with just letting the\n",
      "wind blow. extra points for reading all this and guessing my\n",
      "favorite video game (no hints given yet). and lastly you have a\n",
      "good attention span.\n"
     ]
    }
   ],
   "source": [
    "tagRe = re.compile(\"<.*>\")\n",
    "filteredSummary = tagRe.sub(\"\",filteredSummary)\n",
    "print filteredSummary"
   ]
  },
  {
   "cell_type": "markdown",
   "metadata": {},
   "source": [
    "_Figure 3: Our filtered summary after all ```br``` tags have been removed._\n",
    "\n",
    "As we can see, we have cleaned the summary to a point where there are no tags whatsoever in the text. We can then use this edited summary within the main dataset. This process is essentially a form of data cleansing with text.\n",
    "\n",
    "If you would like to learn more about ```regex```, see the links in the [reference materials](#refMaterials)."
   ]
  },
  {
   "cell_type": "markdown",
   "metadata": {},
   "source": [
    "### Word Analysis on Document"
   ]
  },
  {
   "cell_type": "markdown",
   "metadata": {},
   "source": [
    "Typically, we are interested in the terms and expressions used by a person in a document. The atom of a document to some degree is a word, and so it seems appropriate to start analyzing the types of words used in this document.\n",
    "\n",
    "We will first do a \"tokenization\" of this document. Tokenization is when you simplify a document to just the sequence of words that make up the document. This requires us to split our document into a list based on certain punctuation marks (such as a ```.```, a new-line character, or a ```,```) and spaces, and then filtering our list into non-degenerate words (i.e. not the null string \"\")."
   ]
  },
  {
   "cell_type": "code",
   "execution_count": 16,
   "metadata": {
    "collapsed": false,
    "scrolled": false
   },
   "outputs": [
    {
     "name": "stdout",
     "output_type": "stream",
     "text": [
      "['about', 'me', '', '', 'i', 'would', 'love', 'to', 'think', 'that', 'i', 'was', 'some', 'some', 'kind', 'of', 'intellectual', '', 'either', 'the', 'dumbest', 'smart', 'guy', '', 'or', 'the', 'smartest', 'dumb', 'guy', '', \"can't\", 'say', 'i', 'can', 'tell', 'the', 'difference', '', 'i', 'love', 'to', 'talk', 'about', 'ideas', 'and', 'concepts', '', 'i', 'forge', 'odd', 'metaphors', 'instead', 'of', 'reciting', 'cliches', '', 'like', 'the', 'similarities', 'between', 'a', 'friend', 'of', \"mine's\", 'house', 'and', 'an', 'underwater', 'salt', 'mine', '', 'my', 'favorite', 'word', 'is', 'salt', 'by', 'the', 'way', '', 'weird', 'choice', 'i', 'know', '', '', 'to', 'me', 'most', 'things', 'in', 'life', 'are', 'better', 'as', 'metaphors', '', 'i', 'seek', 'to', 'make', 'myself', 'a', 'little', 'better', 'everyday', '', 'in', 'some', 'productively', 'lazy', 'way', '', 'got', 'tired', 'of', 'tying', 'my', 'shoes', '', 'considered', 'hiring', 'a', 'five', 'year', 'old', '', 'but', 'would', 'probably', 'have', 'to', 'tie', 'both', 'of', 'our', 'shoes', '', '', '', 'decided', 'to', 'only', 'wear', 'leather', 'shoes', 'dress', 'shoes', '', '', 'about', 'you', '', '', 'you', 'love', 'to', 'have', 'really', 'serious', '', 'really', 'deep', 'conversations', 'about', 'really', 'silly', 'stuff', '', 'you', 'have', 'to', 'be', 'willing', 'to', 'snap', 'me', 'out', 'of', 'a', 'light', 'hearted', 'rant', 'with', 'a', 'kiss', '', 'you', \"don't\", 'have', 'to', 'be', 'funny', '', 'but', 'you', 'have', 'to', 'be', 'able', 'to', 'make', 'me', 'laugh', '', 'you', 'should', 'be', 'able', 'to', 'bend', 'spoons', 'with', 'your', 'mind', '', 'and', 'telepathically', 'make', 'me', 'smile', 'while', 'i', 'am', 'still', 'at', 'work', '', 'you', 'should', 'love', 'life', '', 'and', 'be', 'cool', 'with', 'just', 'letting', 'the', 'wind', 'blow', '', 'extra', 'points', 'for', 'reading', 'all', 'this', 'and', 'guessing', 'my', 'favorite', 'video', 'game', '', 'no', 'hints', 'given', 'yet', '', '', 'and', 'lastly', 'you', 'have', 'a', 'good', 'attention', 'span', '']\n"
     ]
    }
   ],
   "source": [
    "#make our split\n",
    "sumWordList = re.split(\" |\\(|\\)|\\.|\\n|,|:|;\",filteredSummary)\n",
    "print sumWordList"
   ]
  },
  {
   "cell_type": "code",
   "execution_count": 17,
   "metadata": {
    "collapsed": false
   },
   "outputs": [
    {
     "name": "stdout",
     "output_type": "stream",
     "text": [
      "['about', 'me', 'i', 'would', 'love', 'to', 'think', 'that', 'i', 'was', 'some', 'some', 'kind', 'of', 'intellectual', 'either', 'the', 'dumbest', 'smart', 'guy', 'or', 'the', 'smartest', 'dumb', 'guy', \"can't\", 'say', 'i', 'can', 'tell', 'the', 'difference', 'i', 'love', 'to', 'talk', 'about', 'ideas', 'and', 'concepts', 'i', 'forge', 'odd', 'metaphors', 'instead', 'of', 'reciting', 'cliches', 'like', 'the', 'similarities', 'between', 'a', 'friend', 'of', \"mine's\", 'house', 'and', 'an', 'underwater', 'salt', 'mine', 'my', 'favorite', 'word', 'is', 'salt', 'by', 'the', 'way', 'weird', 'choice', 'i', 'know', 'to', 'me', 'most', 'things', 'in', 'life', 'are', 'better', 'as', 'metaphors', 'i', 'seek', 'to', 'make', 'myself', 'a', 'little', 'better', 'everyday', 'in', 'some', 'productively', 'lazy', 'way', 'got', 'tired', 'of', 'tying', 'my', 'shoes', 'considered', 'hiring', 'a', 'five', 'year', 'old', 'but', 'would', 'probably', 'have', 'to', 'tie', 'both', 'of', 'our', 'shoes', 'decided', 'to', 'only', 'wear', 'leather', 'shoes', 'dress', 'shoes', 'about', 'you', 'you', 'love', 'to', 'have', 'really', 'serious', 'really', 'deep', 'conversations', 'about', 'really', 'silly', 'stuff', 'you', 'have', 'to', 'be', 'willing', 'to', 'snap', 'me', 'out', 'of', 'a', 'light', 'hearted', 'rant', 'with', 'a', 'kiss', 'you', \"don't\", 'have', 'to', 'be', 'funny', 'but', 'you', 'have', 'to', 'be', 'able', 'to', 'make', 'me', 'laugh', 'you', 'should', 'be', 'able', 'to', 'bend', 'spoons', 'with', 'your', 'mind', 'and', 'telepathically', 'make', 'me', 'smile', 'while', 'i', 'am', 'still', 'at', 'work', 'you', 'should', 'love', 'life', 'and', 'be', 'cool', 'with', 'just', 'letting', 'the', 'wind', 'blow', 'extra', 'points', 'for', 'reading', 'all', 'this', 'and', 'guessing', 'my', 'favorite', 'video', 'game', 'no', 'hints', 'given', 'yet', 'and', 'lastly', 'you', 'have', 'a', 'good', 'attention', 'span']\n"
     ]
    }
   ],
   "source": [
    "#filter to have non-degenerate words\n",
    "filSumWordList = []\n",
    "for word in sumWordList:\n",
    "    if (len(word) > 0): filSumWordList.append(word)\n",
    "print filSumWordList"
   ]
  },
  {
   "cell_type": "code",
   "execution_count": 18,
   "metadata": {
    "collapsed": false
   },
   "outputs": [
    {
     "name": "stdout",
     "output_type": "stream",
     "text": [
      "The length of the document is 234\n",
      "The number of unique words is 144\n"
     ]
    }
   ],
   "source": [
    "#this gave us number of words, let us get number of unique words\n",
    "numWords = len(filSumWordList)\n",
    "numUniqueWords = len(set(filSumWordList))\n",
    "print \"The length of the document is\", numWords\n",
    "print \"The number of unique words is\", numUniqueWords"
   ]
  },
  {
   "cell_type": "markdown",
   "metadata": {
    "variables": {
     "len(filSumWordList)": "234",
     "numUniqueWords": "144"
    }
   },
   "source": [
    "We see that 234 non-unique words occur in this document. These are referred to as **tokens** in NLP. Of those non-unique words, we see that 144 unique words occur in this document. These distinct words are referred to as **types** in NLP. The relationship between tokens and types form the shallow basis of complexity in sentences.\n",
    "\n",
    "In this context, since the ratio of types to tokens is around .61, there is a surprising amount of diversity in vocabulary used in this document. Let us see what are the most common words used in this document. We will key words by count in the dictionary and then pick out the words found in the highest keys to get our most common words."
   ]
  },
  {
   "cell_type": "code",
   "execution_count": 19,
   "metadata": {
    "collapsed": false
   },
   "outputs": [],
   "source": [
    "#creating a map from i : list of words with frequency i\n",
    "wordCountDict = {}\n",
    "for word in set(filSumWordList): #look through unique words\n",
    "    numOccurences = 0\n",
    "    for token in filSumWordList:\n",
    "        if (word == token): #that means we have seen an occurences\n",
    "            numOccurences += 1\n",
    "    #after running through our word list, let us add it to the dictionary keyed\n",
    "    #by count\n",
    "    if (numOccurences in wordCountDict): #already have the list started\n",
    "        wordCountDict[numOccurences].append(word)\n",
    "    else: #start the list\n",
    "        wordCountDict[numOccurences] = [word]"
   ]
  },
  {
   "cell_type": "code",
   "execution_count": 20,
   "metadata": {
    "collapsed": false
   },
   "outputs": [
    {
     "name": "stdout",
     "output_type": "stream",
     "text": [
      "1 : ['all', 'just', \"don't\", 'telepathically', 'hiring', 'still', 'yet', 'letting', 'underwater', 'similarities', 'only', 'willing', 'snap', 'smile', 'smart', 'good', 'conversations', 'kind', 'choice', 'game', 'five', 'know', 'kiss', 'instead', 'difference', 'cool', 'like', 'leather', 'stuff', 'either', 'guessing', 'old', 'tired', 'house', 'decided', 'dumb', 'are', 'year', 'our', 'odd', 'for', 'spoons', 'between', 'got', 'reading', 'lazy', 'attention', 'given', 'smartest', 'wear', 'dress', 'by', 'both', 'weird', 'think', 'extra', 'intellectual', 'rant', 'laugh', 'dumbest', 'lastly', 'your', 'little', 'span', 'blow', 'was', 'tell', 'friend', 'that', 'am', 'tying', 'probably', 'hints', 'myself', 'word', 'this', 'work', 'as', 'considered', 'while', 'silly', 'can', 'concepts', 'video', 'at', \"mine's\", 'is', 'mind', 'mine', 'deep', 'an', 'say', 'bend', 'hearted', 'seek', 'everyday', 'funny', 'no', 'cliches', 'things', 'ideas', 'productively', 'forge', 'tie', 'out', 'reciting', 'most', 'wind', 'light', 'or', 'points', \"can't\", 'serious', 'talk']\n",
      "2 : ['should', 'better', 'guy', 'favorite', 'metaphors', 'would', 'way', 'life', 'but', 'in', 'able', 'salt']\n",
      "3 : ['some', 'really', 'with', 'my', 'make']\n",
      "4 : ['shoes', 'about', 'love']\n",
      "5 : ['be', 'me']\n",
      "6 : ['of', 'and', 'have', 'a', 'the']\n",
      "8 : ['you', 'i']\n",
      "13 : ['to']\n"
     ]
    }
   ],
   "source": [
    "#print this out by key\n",
    "for count in wordCountDict:\n",
    "    print count, \":\", wordCountDict[count]"
   ]
  },
  {
   "cell_type": "markdown",
   "metadata": {
    "collapsed": true
   },
   "source": [
    "_Figure 4: Our words keyed by their frequency in the document._\n",
    "\n",
    "We see that personal references to \"you\" and \"i\" seem to show up frequenty, and words such as \"love\" and \"me\" also have a sizable number of occurences. However, we do notice that there are a lot of words that show up generally infrequently, and only a small number of words that repeat themselves at the very least. We will see this behavior in our word distribution occur in our main corpus in the next section."
   ]
  },
  {
   "cell_type": "markdown",
   "metadata": {},
   "source": [
    "<a id=\"summaryStatistics\" />"
   ]
  },
  {
   "cell_type": "markdown",
   "metadata": {},
   "source": [
    "## Summary Statistics on a corpus"
   ]
  },
  {
   "cell_type": "markdown",
   "metadata": {},
   "source": [
    "We can then extend our analysis from the single document level to a multi-document level. In NLP, we refer to a collection of documents as a **corpus**. If you study this practice further, you will see that a collection of collections of documents is referred to as **corpora**.\n",
    "\n",
    "We will start our macro-analysis by simply counting the words that occur in all self-summaries and studying the commonality of certain words in these OkCupid profiles.\n",
    "\n",
    "We will import several packages that may be unfamiliar. ```nltk``` is the [Natural Language Toolkit](http://www.nltk.org), which is perhaps the most important package in modern programming for language analysis and document processing. ```collections``` allows us to use data structures that not only provides us with a dictionary-like object, but also keeps track of some measure of order in our dictionary; in our case, it allows us to keep track of the most frequent words in our corpus. ``StringIO`` gives us a flexible mechanism to write the entire corpus (all self-summaries) out into one readable string."
   ]
  },
  {
   "cell_type": "code",
   "execution_count": 21,
   "metadata": {
    "collapsed": false
   },
   "outputs": [],
   "source": [
    "#imports discussed\n",
    "import nltk #for relevant corpora\n",
    "import collections as co #for ordered dictionary\n",
    "import StringIO #for string manipulation"
   ]
  },
  {
   "cell_type": "code",
   "execution_count": 22,
   "metadata": {
    "collapsed": false
   },
   "outputs": [
    {
     "name": "stdout",
     "output_type": "stream",
     "text": [
      "about me:<br />\n",
      "<br />\n",
      "i would love to think that i was some some kind of intellectual:\n",
      "either the dumbest smart guy, or the smartest dumb guy. can't say i\n",
      "can tell the difference. i love to talk about ideas and concepts. i\n",
      "forge odd metaphors instead of reciting cliches. like the\n",
      "simularities between a friend of mine's house and an underwater\n",
      "salt mine. my favorite word is salt by the way (weird choice i\n",
      "know). to me most things in life are better as metaphors. i seek to\n",
      "make myself a little better everyday, in some productively lazy\n",
      "way. got tired of tying my shoes. considered hiring a five year\n",
      "old, but would probably have to tie both of our shoes... decided to\n",
      "only wear leather shoes dress shoes.<br />\n",
      "<br />\n",
      "about you:<br />\n",
      "<br />\n",
      "you love to have really serious, really deep conversations about\n",
      "really silly stuff. you have to be willing to snap me out of a\n",
      "light hearted rant with a kiss. you don't have to be funny, but you\n",
      "have to be able to make me laugh. you should be able to bend spoons\n",
      "with your mind, and telepathically make me smile while i am still\n",
      "at work. you should love life, and be cool with just letting the\n",
      "wind blow. extra points for reading all this and guessing my\n",
      "favorite video game (no hints given yet). and lastly you have a\n",
      "good attention span.\n",
      "i am a chef: this is what that means.<br />\n",
      "1. i am a workaholic.<br />\n",
      "2. i love to cook regardless of whether i am at work.<br />\n",
      "3. i love to drink and eat foods that are probably really bad for\n",
      "me.<br />\n",
      "4. i love being around people that resemble line 1-3.<br />\n",
      "i love the outdoors and i am an avid skier. if its snowing i will\n",
      "be in tahoe at the very least. i am a very confident and friendly.\n",
      "i'm not interested in acting or being a typical guy. i have no time\n",
      "or patience for rediculous acts of territorial pissing. overall i\n",
      "am a very likable easygoing individual. i am very adventurous and\n",
      "always looking forward to doing new things and hopefully sharing it\n",
      "with the right person.\n",
      "i'm not ashamed of m\n"
     ]
    }
   ],
   "source": [
    "#create a writeable string object\n",
    "stringWriteTerm = StringIO.StringIO()\n",
    "#write all summaries to the string write term\n",
    "for essay in filteredOkCupidFrame[\"essay0\"]:\n",
    "    stringWriteTerm.write(essay)\n",
    "    #add some space for the next essay\n",
    "    stringWriteTerm.write(\"\\n\")\n",
    "#get the full string from the writer\n",
    "summaryString = stringWriteTerm.getvalue()\n",
    "stringWriteTerm.close()\n",
    "#lower the lettering\n",
    "summaryString = summaryString.lower()\n",
    "numCharsToView = 2000\n",
    "print summaryString[0:numCharsToView]"
   ]
  },
  {
   "cell_type": "code",
   "execution_count": 25,
   "metadata": {
    "collapsed": false,
    "scrolled": true
   },
   "outputs": [],
   "source": [
    "#then spit into a word list\n",
    "summaryWordList = re.split(\"\\.| |,|;|:|-|\\n|<.*>\",summaryString)"
   ]
  },
  {
   "cell_type": "markdown",
   "metadata": {},
   "source": [
    "Now that we have a string of the entire ordered corpus, we will now filter to only include legal words in the English dictionary and remove any potential stopwords. Stopwords are words that do not indicate significance in understanding the contents of a sentence. These are typically words like \"the\", \"to\", \"on.\" For an understanding of how language practitioners choose these stopwords, please see the [reference materials](#refMaterials)."
   ]
  },
  {
   "cell_type": "code",
   "execution_count": 24,
   "metadata": {
    "collapsed": false
   },
   "outputs": [
    {
     "name": "stdout",
     "output_type": "stream",
     "text": [
      "showing info http://www.nltk.org/nltk_data/\n"
     ]
    },
    {
     "data": {
      "text/plain": [
       "True"
      ]
     },
     "execution_count": 24,
     "metadata": {},
     "output_type": "execute_result"
    }
   ],
   "source": [
    "#for downloading datasets\n",
    "nltk.download()\n",
    "#d\n",
    "#words\n",
    "#d\n",
    "#stopwords\n",
    "#q"
   ]
  },
  {
   "cell_type": "code",
   "execution_count": 30,
   "metadata": {
    "collapsed": false
   },
   "outputs": [],
   "source": [
    "#get legal words and get stop words\n",
    "legalWordSet = set(nltk.corpus.words.words())\n",
    "stopWordSet = set(nltk.corpus.stopwords.words())\n",
    "#then make our filtration\n",
    "filteredSumWordList = [word for word in summaryWordList\n",
    "                           if word in legalWordSet and\n",
    "                              word not in stopWordSet]\n",
    "numWordsToView = numCharsToView\n",
    "#print filteredSumWordList[0:numWordsToView]"
   ]
  },
  {
   "cell_type": "code",
   "execution_count": 31,
   "metadata": {
    "collapsed": false
   },
   "outputs": [],
   "source": [
    "#then count the frequency of words in a collection\n",
    "filteredWordCounter = co.Counter(filteredSumWordList)"
   ]
  },
  {
   "cell_type": "markdown",
   "metadata": {},
   "source": [
    "The ```filteredWordCounter``` object is what we would call an ordered dictionary. A dictionary in ```python``` is a set of key-value pairs where given a particular key as an index, the dictionary will return its respective value. The counter object is a slight refinement of a dictionary: it defines an ordering over the keys based on their integer values. In our case, given the list of strings it sees, it orders said strings by their frequency in the list. This allows us to both capture the number of words in the list (namely, the sum of the values) and the number of distinct words in the list (namely, the number of keys)."
   ]
  },
  {
   "cell_type": "code",
   "execution_count": 32,
   "metadata": {
    "collapsed": false
   },
   "outputs": [
    {
     "name": "stdout",
     "output_type": "stream",
     "text": [
      "Number of non-distinct words is 2479674\n",
      "Number of distinct words is  23107\n"
     ]
    }
   ],
   "source": [
    "numNonDistinctWords = sum(filteredWordCounter.values())\n",
    "numDistinctWords = len(filteredWordCounter.keys())\n",
    "print \"Number of non-distinct words is\", numNonDistinctWords\n",
    "print \"Number of distinct words is \", numDistinctWords"
   ]
  },
  {
   "cell_type": "markdown",
   "metadata": {
    "variables": {
     "numDistinctWords": "22940",
     "numNonDistinctWords": "2449319"
    }
   },
   "source": [
    "We see that we have 2479674 tokens that occur in our document corpus.We also have 23107 types that occur in our corpus. It is important to note that the number of types is much smaller than the number of tokens in this context, which suggests that our vocabulary is not extremely rich in this context.\n",
    "\n",
    "Let us study the full word distribution. We will place the relative frequency of words (i.e. the density of the distribution), on the rank of the words, where the rank of a word is $i$ if that word is the $i$th most frequent word in the corpus.\n",
    "\n",
    "We will use the ```pyplot``` package in the ```matplotlib``` library for visualizing this distribution. We use a decorator feature to ensure that our plots stay within the Jupyter environment. We will also use the ```numpy``` package to gain some mathematical functions, in particular the ```log``` method."
   ]
  },
  {
   "cell_type": "code",
   "execution_count": 33,
   "metadata": {
    "collapsed": false
   },
   "outputs": [],
   "source": [
    "import matplotlib.pyplot as plt #for plotting\n",
    "#for inline plotting with Jupyter notebook\n",
    "%matplotlib inline\n",
    "import numpy as np #for some mathematical features\n",
    "#make series of word frequency ordered by most common words\n",
    "#print filteredWordCounter.most_common()"
   ]
  },
  {
   "cell_type": "code",
   "execution_count": 34,
   "metadata": {
    "collapsed": false,
    "scrolled": true
   },
   "outputs": [
    {
     "name": "stdout",
     "output_type": "stream",
     "text": [
      "                  Word  Frequency       Density\n",
      "0                 love      46967  1.894080e-02\n",
      "1                 like      43942  1.772088e-02\n",
      "2                 life      27290  1.100548e-02\n",
      "3               people      25806  1.040701e-02\n",
      "4                  new      22369  9.020944e-03\n",
      "5                 time      22116  8.918914e-03\n",
      "6                 good      21116  8.515636e-03\n",
      "7                enjoy      17146  6.914619e-03\n",
      "8                  get      15498  6.250015e-03\n",
      "9              looking      14487  5.842300e-03\n",
      "10                know      14440  5.823346e-03\n",
      "11              really      14139  5.701959e-03\n",
      "12             someone      13929  5.617271e-03\n",
      "13                 one      13287  5.358366e-03\n",
      "14                 fun      13268  5.350703e-03\n",
      "15               going      12904  5.203910e-03\n",
      "16                work      12611  5.085749e-03\n",
      "17               would      12086  4.874028e-03\n",
      "18                much      11307  4.559874e-03\n",
      "19                  go      11299  4.556647e-03\n",
      "20              person      10971  4.424372e-03\n",
      "21               think      10744  4.332828e-03\n",
      "22                make      10696  4.313470e-03\n",
      "23               music      10635  4.288870e-03\n",
      "24              always      10511  4.238864e-03\n",
      "25                well       9861  3.976732e-03\n",
      "26                back       9458  3.814211e-03\n",
      "27                find       9395  3.788804e-03\n",
      "28              pretty       9327  3.761382e-03\n",
      "29                live       9020  3.637575e-03\n",
      "...                ...        ...           ...\n",
      "23077             vier          1  4.032788e-07\n",
      "23078      econometric          1  4.032788e-07\n",
      "23079            truer          1  4.032788e-07\n",
      "23080  heterosexuality          1  4.032788e-07\n",
      "23081           tousle          1  4.032788e-07\n",
      "23082        piteously          1  4.032788e-07\n",
      "23083          gassing          1  4.032788e-07\n",
      "23084          octagon          1  4.032788e-07\n",
      "23085      equidistant          1  4.032788e-07\n",
      "23086             wren          1  4.032788e-07\n",
      "23087         unsigned          1  4.032788e-07\n",
      "23088           cutler          1  4.032788e-07\n",
      "23089         vortices          1  4.032788e-07\n",
      "23090       unbuttered          1  4.032788e-07\n",
      "23091             lear          1  4.032788e-07\n",
      "23092       friskiness          1  4.032788e-07\n",
      "23093            mania          1  4.032788e-07\n",
      "23094     thoroughfare          1  4.032788e-07\n",
      "23095         warranty          1  4.032788e-07\n",
      "23096            bugle          1  4.032788e-07\n",
      "23097            maize          1  4.032788e-07\n",
      "23098         footwork          1  4.032788e-07\n",
      "23099            wight          1  4.032788e-07\n",
      "23100         windfall          1  4.032788e-07\n",
      "23101           spanky          1  4.032788e-07\n",
      "23102             boor          1  4.032788e-07\n",
      "23103        hippocras          1  4.032788e-07\n",
      "23104      grandiosity          1  4.032788e-07\n",
      "23105        northerly          1  4.032788e-07\n",
      "23106       untalented          1  4.032788e-07\n",
      "\n",
      "[23107 rows x 3 columns]\n"
     ]
    }
   ],
   "source": [
    "#make series of word frequency ordered by most common words\n",
    "wordFrequencyFrame = pd.DataFrame(filteredWordCounter.most_common(),\n",
    "                                  columns = [\"Word\",\"Frequency\"])\n",
    "wordFrequencyFrame[\"Density\"] = (wordFrequencyFrame[\"Frequency\"] /\n",
    "                                    sum(wordFrequencyFrame[\"Frequency\"]))\n",
    "print wordFrequencyFrame"
   ]
  },
  {
   "cell_type": "code",
   "execution_count": 35,
   "metadata": {
    "collapsed": false
   },
   "outputs": [
    {
     "data": {
      "text/plain": [
       "<matplotlib.text.Text at 0x1215f9a50>"
      ]
     },
     "execution_count": 35,
     "metadata": {},
     "output_type": "execute_result"
    },
    {
     "data": {
      "image/png": "[encoded data removed]",
      "text/plain": [
       "<matplotlib.figure.Figure at 0x121df9550>"
      ]
     },
     "metadata": {},
     "output_type": "display_data"
    }
   ],
   "source": [
    "#then plot rank-density plot\n",
    "#for the sake of easier visuals, we will log the rank\n",
    "desiredLineWidth = 3\n",
    "plt.plot(np.log(wordFrequencyFrame.index+1),wordFrequencyFrame[\"Density\"],\n",
    "         lw = desiredLineWidth)\n",
    "plt.xlabel(\"Log-Rank\")\n",
    "plt.ylabel(\"Density\")\n",
    "plt.title(\"Log(Rank)-Density Plot\\nFor Words in our Summary Corpus\")"
   ]
  },
  {
   "cell_type": "markdown",
   "metadata": {},
   "source": [
    "_Figure 5: Distribution of our words on the $\\log(Rank)$ of the words._\n",
    "\n",
    "We see that while we have around $e^{10} \\approx 22000$ words in our distribution, the density peters out after the $e^6 \\approx 400$ most frequent words. This suggests that we have many words that occur extremely rarely in our dataset and only a few words that occur relatively often. This is referred to as a distribution that behaves as a **Zipfian distribution**, which is a type of distribution where you have a few events that occur very often and many events that occur rarely. This distribution is fundamental to understanding the language-generating process within NLP.\n",
    "\n",
    "Let us see what are top $10$ most frequent words are. We will import some visualization features to embed a table within our Jupyter notebook."
   ]
  },
  {
   "cell_type": "code",
   "execution_count": 36,
   "metadata": {
    "collapsed": false
   },
   "outputs": [
    {
     "data": {
      "text/html": [
       "<table border=\"1\" class=\"dataframe\">\n",
       "  <thead>\n",
       "    <tr style=\"text-align: right;\">\n",
       "      <th>Word</th>\n",
       "      <th>Frequency</th>\n",
       "    </tr>\n",
       "  </thead>\n",
       "  <tbody>\n",
       "    <tr>\n",
       "      <td>love</td>\n",
       "      <td>46967</td>\n",
       "    </tr>\n",
       "    <tr>\n",
       "      <td>like</td>\n",
       "      <td>43942</td>\n",
       "    </tr>\n",
       "    <tr>\n",
       "      <td>life</td>\n",
       "      <td>27290</td>\n",
       "    </tr>\n",
       "    <tr>\n",
       "      <td>people</td>\n",
       "      <td>25806</td>\n",
       "    </tr>\n",
       "    <tr>\n",
       "      <td>new</td>\n",
       "      <td>22369</td>\n",
       "    </tr>\n",
       "    <tr>\n",
       "      <td>time</td>\n",
       "      <td>22116</td>\n",
       "    </tr>\n",
       "    <tr>\n",
       "      <td>good</td>\n",
       "      <td>21116</td>\n",
       "    </tr>\n",
       "    <tr>\n",
       "      <td>enjoy</td>\n",
       "      <td>17146</td>\n",
       "    </tr>\n",
       "    <tr>\n",
       "      <td>get</td>\n",
       "      <td>15498</td>\n",
       "    </tr>\n",
       "    <tr>\n",
       "      <td>looking</td>\n",
       "      <td>14487</td>\n",
       "    </tr>\n",
       "  </tbody>\n",
       "</table>"
      ],
      "text/plain": [
       "<IPython.core.display.HTML object>"
      ]
     },
     "metadata": {},
     "output_type": "display_data"
    }
   ],
   "source": [
    "#grab top ten words\n",
    "topLev = 10\n",
    "topTenWordFrame = wordFrequencyFrame.iloc[0:topLev,:].loc[:,\n",
    "                                                        [\"Word\",\"Frequency\"]]\n",
    "#then display\n",
    "from IPython.display import display, HTML\n",
    "display(HTML(topTenWordFrame.to_html(index = False)))"
   ]
  },
  {
   "cell_type": "markdown",
   "metadata": {},
   "source": [
    "_Table 1: Our top ten most frequent words by their count frequency._\n",
    "\n",
    "We see that words that display some level affection are emphasized, such as \"like\" and \"love.\" Words with positive connotations also seem to occur often, as shown by the frequency of \"good\" and \"enjoy.\" There is also a sense of discovery of new individuals that pervades our vocabulary, as shown by the occurence words such as \"looking\", \"new\", and \"people.\""
   ]
  },
  {
   "cell_type": "markdown",
   "metadata": {},
   "source": [
    "<a id=\"languageModels\" />"
   ]
  },
  {
   "cell_type": "markdown",
   "metadata": {},
   "source": [
    "## Language Models"
   ]
  },
  {
   "cell_type": "markdown",
   "metadata": {},
   "source": [
    "Before we begin trying to predict the age of a writer, we must first introduce the way we use language in the prediction process. **Features** are the components of your data you use to predict your **outcome** variable. In this context, our features are the language, and our outcome is age. However, how do I go about encoding language as a feature? This is the fundamental question of **feature engineering**.\n",
    "\n",
    "In NLP, feature engineering often boils down to a way of representing each document in a corpus as some numerical vector. This numerical vector is referred to as the **encoding** of a document. Some would argue that encoding is purely for practical purposes, and would argue that an encoding of a document is arbitrary. However, NLP practitioners have shown how encodings place important assumptions on how a document was generated. The way we represent a document-generating process is referred to as **language modeling**.\n",
    "\n",
    "Language modeling could be a lecture unto itself (which may be a good potential followup). However, for the time being, we will describe one of the most simple models of language generation: the **unigram**.\n",
    "\n",
    "let us describe a document of lenght $n$ as a sequence of words\n",
    "\n",
    "$$W = (w_1,w_2,...,w_n).$$\n",
    "\n",
    "A simple way to describe how this document is generated is through some form of distribution over the words that exist in the document. The unigram model assumes that every word in the sequence is generated **independently of the words before it and the words after it**. For example, consider the second word that occurs in the sequence $w_2$. What we are stating is that the probability of seeing $w_2$ occur in the document is independent of whatever other words I see in this document. Mathematically,\n",
    "\n",
    "$$P(w_2 | w_1,w_3,...,w_n) = P(w_2)$$\n",
    "\n",
    "This essentially leads to the implication that the probability of seeing a document is equal to the product of the likelihood of each word occuring in this document:\n",
    "\n",
    "$$P(W) = P(w_1,w_2,...,w_n) = P(w_1)P(w_2)...P(w_n) = \\prod_{i = 1}^n P(w_i).$$\n",
    "\n",
    "In this extent, the sufficient information we need to know to explain how a document is generated is just a **probability distribution over all words in our vocabulary**.\n",
    "\n",
    "Let us simulate how this model generates language. We will take our current word distribution (see [Summary Statistics](#summaryStatistics)) and simulate a process of pulling our language from a hat containing that distribution. This is why this language model is referred to commonly as a **bag of words**."
   ]
  },
  {
   "cell_type": "code",
   "execution_count": 37,
   "metadata": {
    "collapsed": false
   },
   "outputs": [],
   "source": [
    "#build bag of words distribution\n",
    "bow = []\n",
    "for word in filteredWordCounter:\n",
    "    #make observation list by multiplying by count\n",
    "    wordObsList = [word] * filteredWordCounter[word]\n",
    "    #then extend bow as such\n",
    "    bow.extend(wordObsList)\n",
    "#print bow"
   ]
  },
  {
   "cell_type": "code",
   "execution_count": 38,
   "metadata": {
    "collapsed": false
   },
   "outputs": [],
   "source": [
    "#build sampling function\n",
    "import random #for sampling\n",
    "def generateLanguage(numWords,bow):\n",
    "    #helper that generates our language using out bag of words\n",
    "    newPhraseList = []\n",
    "    for i in xrange(numWords):\n",
    "        #sample a word from our distribution\n",
    "        newWordList = random.sample(bow,1)\n",
    "        newPhraseList.extend(newWordList)\n",
    "    newPhrase = \" \".join(newPhraseList)\n",
    "    return newPhrase"
   ]
  },
  {
   "cell_type": "code",
   "execution_count": 39,
   "metadata": {
    "collapsed": false
   },
   "outputs": [
    {
     "name": "stdout",
     "output_type": "stream",
     "text": [
      "eastern assets\n",
      "easy find see partner\n",
      "lot fancy little much funny engage important baking\n",
      "towards together humor instead new night kindness every wisely short towards anyone totally pro something working\n"
     ]
    }
   ],
   "source": [
    "#some examples\n",
    "sentenceLenList = [2,4,8,16]\n",
    "for sentenceLen in sentenceLenList:\n",
    "    print generateLanguage(sentenceLen,bow)"
   ]
  },
  {
   "cell_type": "markdown",
   "metadata": {},
   "source": [
    "According to our language model, these are dating profiles that can be generated. However, do these represent realistic forms of communication? Do these look like realistic self-summaries for dating profiles? It is apparent that the answer is no. This is an extremely unrealistic model for how our langauge is generated, most notably because each word is generated independently of each other in the document. Given the many phrasal dependencies that occur in real documents, this is not a realistic assumption to make. That being said, we will see how using this model of language actually performs reasonably well for the task of prediction.\n",
    "\n",
    "Given that we use a unigram model of language, the only information I need to know to inform a documents likelihood of generation, i.e. $P(W),$ is simply the frequencies of the words that appear in the document. Thus, This leads to a bag of words encoding that maps each document $W$ to an encoding $D_{W}.$ The encoding $D_{W}$ is a vector of length $|V|$, where $V$ is the vocabulary of our corpus. If we define an ordering of words over our vocabulary, we can say that the $i$th component of $D_{W}$ is\n",
    "\n",
    "$$D_{W,i} = \\text{number of times word }i\\text{ appears in document }W.$$\n",
    "\n",
    "This defines the way we will encode the documents in our corpus."
   ]
  },
  {
   "cell_type": "markdown",
   "metadata": {},
   "source": [
    "## Prediction with Language"
   ]
  },
  {
   "cell_type": "markdown",
   "metadata": {},
   "source": [
    "One of the essential reasons why NLP is significant in data science is that language has often been shown to be an effective predictor of structural and environmental components in the world. In our case, we might be interested in seeing how language of a writer can help us predict the age of the writer. Let us first take a look at the distribution of ages available in this dataset."
   ]
  },
  {
   "cell_type": "code",
   "execution_count": 40,
   "metadata": {
    "collapsed": false
   },
   "outputs": [
    {
     "data": {
      "text/plain": [
       "<matplotlib.text.Text at 0x1218d7490>"
      ]
     },
     "execution_count": 40,
     "metadata": {},
     "output_type": "execute_result"
    },
    {
     "data": {
      "image/png": "[encoded data removed]",
      "text/plain": [
       "<matplotlib.figure.Figure at 0x1215f93d0>"
      ]
     },
     "metadata": {},
     "output_type": "display_data"
    }
   ],
   "source": [
    "#mkae a histogram\n",
    "newPlot = plt.hist(filteredOkCupidFrame[\"age\"])\n",
    "plt.xlabel(\"Age of User\")\n",
    "plt.ylabel(\"Frequency\")\n",
    "plt.title(\"Distribution of User Ages\")"
   ]
  },
  {
   "cell_type": "markdown",
   "metadata": {},
   "source": [
    "_Figure 6: Distribution of the ages of users in this dataset._\n",
    "\n",
    "We see that there is a large concentration of users in the $[20,30]$ age range and a slight tail of users extending into older ages. This is expected due to the fact that OkCupid specifically targets young adults for its main user base.\n",
    "\n",
    "We are interested in seeing if we can use the language content in the summary of a user to predict some measurement of age. For the sake of simplification, let us try to predict whether someone is within the millenial age range. For a beginner's prediction problem, it is much easier to deal with predicting a binary outcome than a continous scale of outcomes. For the sake of further simplification, we will assume that a millenial is anyone under of $28.$"
   ]
  },
  {
   "cell_type": "code",
   "execution_count": 41,
   "metadata": {
    "collapsed": false
   },
   "outputs": [],
   "source": [
    "#generate the variable from our stated cutoff\n",
    "filteredOkCupidFrame[\"isMillenial\"] = 0\n",
    "millenialCutoff = 28\n",
    "filteredOkCupidFrame.loc[filteredOkCupidFrame[\"age\"] < millenialCutoff,\n",
    "                         \"isMillenial\"] = 1"
   ]
  },
  {
   "cell_type": "markdown",
   "metadata": {},
   "source": [
    "The typical **supervised learning** task is initialized as such:\n",
    "\n",
    "Given a target variable $Y$ and a feature set $X$, We are looking for a function $f$ such that\n",
    "\n",
    "$$f : X \\rightarrow Y.$$\n",
    "\n",
    "In the task of **regression**, $Y$ is some continuous set of variables (typically $\\mathbb{R}$). In the task of **classification**, $Y$ is some discrete set of variables. In our case, $Y = \\{0,1\\},$ where $1$ represents the instance where someone is a millenial and $0$ represents the instance where someone is not a millenial. This would be considered a **binary classification** task.\n",
    "\n",
    "For this task, we will introduce a model (or, to some degree, a family of functions) referred to as **logistic regression**. Say that we are interested in estimating the probability that one is a millenial given our feature set, i.e.\n",
    "\n",
    "$$P(isMillenial|X).$$\n",
    "\n",
    "Logistic regression assumes that this function takes on a **sigmoidal** form:\n",
    "\n",
    "$$P(isMillenial|X) = \\frac{1}{1 + e^{-r(X)}},$$\n",
    "\n",
    "where $r : X \\rightarrow \\mathbb{R}$ is some regression function. This function $r$ is the main reason why logistic regression is referred to as regression despite being used for classification purposes.\n",
    "\n",
    "Our model takes an additional assumption: that $r$ is a function that is linear in our feature set. Take $X_i$ to be the frequency of word $i$ in our document, $i \\in V.$ We see that\n",
    "\n",
    "$$r(X) = \\sum_{i = 1}^{|V|} \\beta_i X_i,$$\n",
    "\n",
    "where $\\beta_i$ is some weight, $i \\in V.$ The main question that we want to know is, what are the optimal $\\beta_i$'s to fit this model?\n",
    "\n",
    "We won't have enough time to discuss the training algorithm used to find our weights for $r$, but for the time being, we will say that we will train this logistic regression with an objective function featuring an $L_1$ penalty. An **objective function** is some function that we either minimize or maximize in a way to find our weights. In that sense, the objective function is some measurement as to **how well our model is performing relative to other models**. We would prefer this objective function to be one that measures **how well our model is fitting the data**. The $L_1$ penalty is a component of the objective function that penalizes models that place to large of weights. To some degree, this allows our objective function to prefer models that fit the data well, but penalize models that are overly complex and assign too many weights to too many features. The $L_1$ penalty is useful **when our feature set is very large.**"
   ]
  },
  {
   "cell_type": "markdown",
   "metadata": {},
   "source": [
    "We will use Scikit-learn ```sklearn``` to build the bag-of-words representation of our summaries discussed in the [previous section](#languageModels). We will then use a Logistic Regression with $L_1$ penalty for our predictive pipeline."
   ]
  },
  {
   "cell_type": "code",
   "execution_count": 42,
   "metadata": {
    "collapsed": false,
    "scrolled": true
   },
   "outputs": [],
   "source": [
    "#import our count vectorizer\n",
    "from sklearn.feature_extraction.text import CountVectorizer\n",
    "#make a vocab dictionary\n",
    "counterList = filteredWordCounter.most_common()\n",
    "vocabDict = {}\n",
    "for i in xrange(len(counterList)):\n",
    "    rankWord = counterList[i][0]\n",
    "    vocabDict[rankWord] = i\n",
    "#initialize vectorizer\n",
    "vectorizer = CountVectorizer(min_df=1,stop_words=stopWordSet,\n",
    "                             vocabulary = vocabDict)\n",
    "#then fit and transform our summaries\n",
    "bagOfWordsMatrix = vectorizer.fit_transform(filteredOkCupidFrame[\"essay0\"])\n",
    "#print bagOfWordsMatrix"
   ]
  },
  {
   "cell_type": "code",
   "execution_count": 43,
   "metadata": {
    "collapsed": false,
    "scrolled": true
   },
   "outputs": [],
   "source": [
    "#get language frame\n",
    "langFrame = pd.DataFrame(bagOfWordsMatrix.toarray(),\n",
    "                         columns = vectorizer.get_feature_names())\n",
    "#display(langFrame)"
   ]
  },
  {
   "cell_type": "code",
   "execution_count": 44,
   "metadata": {
    "collapsed": false
   },
   "outputs": [
    {
     "data": {
      "text/plain": [
       "LogisticRegression(C=1.0, class_weight=None, dual=False, fit_intercept=True,\n",
       "          intercept_scaling=1, max_iter=100, multi_class='ovr', n_jobs=1,\n",
       "          penalty='l1', random_state=None, solver='liblinear', tol=0.0001,\n",
       "          verbose=0, warm_start=False)"
      ]
     },
     "execution_count": 44,
     "metadata": {},
     "output_type": "execute_result"
    }
   ],
   "source": [
    "#import linear model\n",
    "import sklearn.linear_model as lm\n",
    "#build model\n",
    "initialLinearMod = lm.LogisticRegression(penalty = \"l1\")\n",
    "initialLinearMod.fit(langFrame,filteredOkCupidFrame[\"isMillenial\"])"
   ]
  },
  {
   "cell_type": "markdown",
   "metadata": {},
   "source": [
    "Now that we have fit our model, let us see how well we are currently fitting our dataset. We will first test for accuracy of our model on the decision rule that if our predicted probability is above $.5$, we will predict that an individual is a millenial."
   ]
  },
  {
   "cell_type": "code",
   "execution_count": 45,
   "metadata": {
    "collapsed": false,
    "scrolled": true
   },
   "outputs": [],
   "source": [
    "#make predictions\n",
    "predictionVec = initialLinearMod.predict(langFrame)\n",
    "filteredOkCupidFrame[\"predictedLabel\"] = list(predictionVec)\n",
    "#print filteredOkCupidFrame[\"predictedLabel\"]"
   ]
  },
  {
   "cell_type": "code",
   "execution_count": 46,
   "metadata": {
    "collapsed": false,
    "run_control": {
     "marked": false
    }
   },
   "outputs": [
    {
     "name": "stdout",
     "output_type": "stream",
     "text": [
      "0.789867978921\n"
     ]
    }
   ],
   "source": [
    "#then test for accuracy\n",
    "accurateFrame = filteredOkCupidFrame[filteredOkCupidFrame[\"isMillenial\"] ==\n",
    "                                     filteredOkCupidFrame[\"predictedLabel\"]]\n",
    "accuracy = float(accurateFrame.shape[0]) / filteredOkCupidFrame.shape[0]\n",
    "print accuracy"
   ]
  },
  {
   "cell_type": "markdown",
   "metadata": {},
   "source": [
    "We see that our model is predicting accurately around $78.99\\% \\approx 80\\%$ of the time on our current dataset. This means that on the dataset it is using to **train**, it makes a predictive mistake on average about $1$ for every $5$ predictions. Depending on the context, this might not be an ideal fit for the data. That being said, given that this is an accuracy rate built on a relatively naïve feature set (see [Language Modeling](#languageModels)), we are performing surprisingly well despite rather simple methods that we are using.\n",
    "\n",
    "Let us now look at the **confusion matrix** of our predictions. A confusion matrix is a matrix that compares our predicted outcomes on our actual labels. In particular, row $i$ indicates instances where our model predicts label $i$, and column $j$ indicates instances where our model predicts label $j$. When put together, Cell $i,j$ of the confusion matrix contains the number of observations where we predict label $i$ on outcomes that are actually labeled $j$."
   ]
  },
  {
   "cell_type": "code",
   "execution_count": 47,
   "metadata": {
    "collapsed": false
   },
   "outputs": [
    {
     "data": {
      "text/html": [
       "<div>\n",
       "<table border=\"1\" class=\"dataframe\">\n",
       "  <thead>\n",
       "    <tr style=\"text-align: right;\">\n",
       "      <th></th>\n",
       "      <th>0</th>\n",
       "      <th>1</th>\n",
       "    </tr>\n",
       "  </thead>\n",
       "  <tbody>\n",
       "    <tr>\n",
       "      <th>0</th>\n",
       "      <td>30821</td>\n",
       "      <td>7531</td>\n",
       "    </tr>\n",
       "    <tr>\n",
       "      <th>1</th>\n",
       "      <td>3913</td>\n",
       "      <td>12196</td>\n",
       "    </tr>\n",
       "  </tbody>\n",
       "</table>\n",
       "</div>"
      ],
      "text/plain": [
       "       0      1\n",
       "0  30821   7531\n",
       "1   3913  12196"
      ]
     },
     "metadata": {},
     "output_type": "display_data"
    }
   ],
   "source": [
    "#confusion matrix\n",
    "confusionMat = pd.DataFrame({0:[0,0],1:[0,0]})\n",
    "#get our indices\n",
    "rowIndices = list(confusionMat.index)\n",
    "colIndices = list(confusionMat.columns)\n",
    "#then run through theses\n",
    "for row in rowIndices:\n",
    "    for col in colIndices:\n",
    "        #grab observations with row predictedLabel and col actual label\n",
    "        givenObs = filteredOkCupidFrame[\n",
    "                (filteredOkCupidFrame[\"predictedLabel\"] == row) &\n",
    "                (filteredOkCupidFrame[\"isMillenial\"] == col)]\n",
    "        #then just get the number of observations in this situation\n",
    "        numObs = givenObs.shape[0]\n",
    "        #then store is\n",
    "        confusionMat.loc[row,col] = numObs\n",
    "#then display our confusion matrix\n",
    "display(confusionMat)"
   ]
  },
  {
   "cell_type": "markdown",
   "metadata": {},
   "source": [
    "We see that we have about $7526$ observations that we predicted as not millenials (label $0$), but were actually millenials (label $1$). This is referred to as **false negatives** in a binary classification problem. We also see that we have about $3912$ observations that we predicted as millenials (label $1$), but were actually non-millenials (label $0$). This is referred to as **false positives** in a binary classification problem. In this context, we see that our false negative rate is slightly larger than our false positive rate in magnitude, but it is very important to note that this is a large portion of the millenials we are predicting incorrectly upon (about $\\frac{7526}{7526 + 12201} \\cdot 100 \\approx 38\\%$). To some degree, it's important to note that we have way fewer millenials in this dataset by our labeling hypothesis than non-millenials. This leads to what we call an **imbalanced classes** problem in binary classification. We will discuss more about the potential impact of this issue in our [Next Questions](#nextQuestions) section.\n",
    "\n",
    "Let us take a look at the coefficients fit for our model."
   ]
  },
  {
   "cell_type": "code",
   "execution_count": 48,
   "metadata": {
    "collapsed": false
   },
   "outputs": [
    {
     "name": "stdout",
     "output_type": "stream",
     "text": [
      "The number of betas that equal 0 are 16673\n"
     ]
    }
   ],
   "source": [
    "#look at coefficients\n",
    "coefVec = initialLinearMod.coef_[0] #because logistic regression syntax\n",
    "coefFrame = pd.DataFrame({\"Feature Name\": vectorizer.get_feature_names(),\n",
    "                         \"Coefficient\":coefVec})\n",
    "#get number of 0 coefficients\n",
    "zeroCoefFrame = coefFrame[coefFrame[\"Coefficient\"] == 0]\n",
    "numZeroCoeffs = zeroCoefFrame.shape[0]\n",
    "print \"The number of betas that equal 0 are\", numZeroCoeffs"
   ]
  },
  {
   "cell_type": "markdown",
   "metadata": {},
   "source": [
    "When we compare this to the fact there are $\\approx 22000$ words in our corpus, we see that approximately $76\\%$ of the words we considered in this initial model have no predictive effect in our current fitted model. Thus, this is an extremely sparse model in terms of our coefficients, which shows the strength of the $L_1$ penalty. It is also important to tie this back to the original sparsity in our word distribution. Since the $400$ most frequent words take up most of our word distribution, we have many words that occur so rarely that they do not have any predictive effect.\n",
    "\n",
    "Let us look at our non-zero coefficients. For the time we have, we will interpret the coefficients with the largest magnitude."
   ]
  },
  {
   "cell_type": "code",
   "execution_count": 49,
   "metadata": {
    "collapsed": false
   },
   "outputs": [],
   "source": [
    "#consider nonzero coefficients\n",
    "nonZeroCoeffFrame = coefFrame[coefFrame[\"Coefficient\"] != 0]\n",
    "#get absolute magnitude of coefficients\n",
    "nonZeroCoeffFrame[\"absCoeff\"] = np.abs(nonZeroCoeffFrame[\"Coefficient\"])\n",
    "#order by absolute value\n",
    "nonZeroCoeffFrame = nonZeroCoeffFrame.sort_values(\"absCoeff\",\n",
    "                                                  ascending = False)\n",
    "#then display values\n",
    "#display(HTML(nonZeroCoeffFrame.to_html(index = False)))"
   ]
  },
  {
   "cell_type": "markdown",
   "metadata": {},
   "source": [
    "To interpret the meaning of these coefficients, let us look back at the mathematical representation of the model we fit:\n",
    "\n",
    "$$P(isMillenial | X) = \\frac{1}{1 + e^{-\\sum_{i = 1}^{|V|} \\beta_i X_i}}.$$\n",
    "\n",
    "We see that if our coefficient for word $i$ ($\\beta_i$) is positive, this makes our denominator smaller and pushes our prediction closer to the $isMillenial$ direction. Similarly, if the coefficient is negative, this will make our denominator bigger and push our predictions away from the $isMillenial$ direction.\n",
    "\n",
    "We see that \"pregnancy\" seems to be a word that has the highest magnitude in its coefficient, which suggests that pregnancy seems to be an important indicator for whether the profile writer is a millenial. This is a bit peculiar, given that pregnancy seems to be something that is uninteresting to younger millenials who tend to not be interested in \"settling down\" any time soon. That being said, we see that \"unyielding\" and \"unsatisfied\" seem to also be strong indicators of whether a writer is a millenial or not. To some degree, this paints an interesting narrative: that millenials can often look at relationships as a new experience, something where they can have \"unyielding\" discover of themselves compared to a lack of satisfaciton in previous relationships. This would then beg the question as to whether these are also focuses for non-millenials.\n",
    "\n",
    "That being said, it is often useful to look at a set of example predictions to see how flexible our model might be in other dating contexts. Let's take a look at one profile we accurately predict is a millenial."
   ]
  },
  {
   "cell_type": "code",
   "execution_count": 50,
   "metadata": {
    "collapsed": false
   },
   "outputs": [
    {
     "name": "stdout",
     "output_type": "stream",
     "text": [
      "The age of this profile is : 26\n",
      "Their Self-Summary:\n",
      "\n",
      "to sum myself in whole: i have adventurous tendencies with a\n",
      "somewhat vulgar flare (i hope you can take a joke-offensive or\n",
      "not).<br />\n",
      "<br />\n",
      "i'm a constant seeker of discovering something new, whether it be a\n",
      "different restaurant, culture, or music (anything really). i tend\n",
      "to have an eclectic personality.<br />\n",
      "<br />\n",
      "i volunteer and participate with a lot of activities with my\n",
      "community. i also tend to seek those who have a story, any story.\n",
      "i'm all ears! i want to learn from you, hear what you have to say,\n",
      "and relate it to my own personal experience.<br />\n",
      "<br />\n",
      "i'm a bit of a nerd and like to watch the history, military, and\n",
      "discovery channel. something about militaristic strategies intrigue\n",
      "me.<br />\n",
      "<br />\n",
      "i'm a bit of a tom boy, so i indulge in shooting guns, playing\n",
      "video games, and working out consistently. i also have the guilty\n",
      "pleasure of watching ridiculous comedy (family guy, curb your\n",
      "enthusiasm, it's always sunny ...just to name a few)\n",
      "\n",
      "Our Model Predicts this person is a millenial\n"
     ]
    }
   ],
   "source": [
    "millenialProfileInd = 17 #checked this earlier\n",
    "print \"The age of this profile is :\", filteredOkCupidFrame.loc[millenialProfileInd,\"age\"]\n",
    "print \"Their Self-Summary:\"\n",
    "print\n",
    "givenEssay = filteredOkCupidFrame.loc[millenialProfileInd,\"essay0\"]\n",
    "print givenEssay\n",
    "#make our predictions\n",
    "newBOW = vectorizer.transform([givenEssay])\n",
    "newPrediction = initialLinearMod.predict(newBOW)\n",
    "print\n",
    "if (newPrediction[0] == 1):\n",
    "    print \"Our Model Predicts this person is a millenial\"\n",
    "else:\n",
    "    print \"Our Model Predicts this person is not a millenial\""
   ]
  },
  {
   "cell_type": "markdown",
   "metadata": {},
   "source": [
    "We see that our model predicts this person is a millenial, and when we look at the contents of the summary, it is not extremely surprising. We see that this individual enjoys video games (a trope of millenials), and discusses a lot about their nerd-oriented hobbies.\n",
    "\n",
    "However, let us see how our model performs in a different context. Let's take a look at my old Tinder bio. "
   ]
  },
  {
   "cell_type": "code",
   "execution_count": 51,
   "metadata": {
    "collapsed": false
   },
   "outputs": [
    {
     "name": "stdout",
     "output_type": "stream",
     "text": [
      "[0]\n"
     ]
    }
   ],
   "source": [
    "#try my Tinder profile\n",
    "michaelTinderSummary = \"\"\"Senior at Carnegie Mellon, starting work in Boston\n",
    "next summer as a data scientist at place X :D\n",
    "\n",
    "I enjoy books, singing, coffee, and polar bears :D\"\"\"\n",
    "#lower it\n",
    "michaelTinderSummary = michaelTinderSummary.lower()\n",
    "#then predict\n",
    "personalBOW = vectorizer.transform([michaelTinderSummary])\n",
    "personalPrediction = initialLinearMod.predict(personalBOW)\n",
    "print personalPrediction"
   ]
  },
  {
   "cell_type": "markdown",
   "metadata": {},
   "source": [
    "Interestingly, this summary makes an innaccurate prediction, since I am $21$ and yet it suggests that I am not a Millenial. That being said, given the many emoticons and proper nouns featured in my profile, it is likely that there are many words that were not picked up in the features since they were not in the **original vocabulary**.\n",
    "\n",
    "Let us take a look at another individual's Tinder profile."
   ]
  },
  {
   "cell_type": "code",
   "execution_count": 52,
   "metadata": {
    "collapsed": false
   },
   "outputs": [
    {
     "name": "stdout",
     "output_type": "stream",
     "text": [
      "[0]\n"
     ]
    }
   ],
   "source": [
    "#try a friend's Tinder profile\n",
    "friendTinderSummary = \"\"\"Insert a friend's profile here\"\"\"\n",
    "#lower it\n",
    "friendTinderSummary = friendTinderSummary.lower()\n",
    "#then predict\n",
    "friendBOW = vectorizer.transform([friendTinderSummary])\n",
    "friendPrediction = initialLinearMod.predict(friendBOW)\n",
    "print friendPrediction"
   ]
  },
  {
   "cell_type": "markdown",
   "metadata": {},
   "source": [
    "We see that even for my millenial friend, we are still predicting that they are not a millenial! There are a couple components to this that we need to consider:\n",
    "\n",
    "* Our model is rather inflexible to new words. We still do not have a way of encoding words that are out of our vocabulary, and that can severely affect predictions like on my Tinder profile.\n",
    "\n",
    "* Our model is rather inflexible to context. The nature of what individuals write on their profiles on [OkCupid](https://www.okcupid.com) can be very different than what individuals write on a [Tinder](https://www.gotinder.com) profile. To this extent, it might be important for us to consider how our model might be effective on out-of-corpus situations."
   ]
  },
  {
   "cell_type": "markdown",
   "metadata": {},
   "source": [
    "<a id=\"nextQuestions\" />"
   ]
  },
  {
   "cell_type": "markdown",
   "metadata": {},
   "source": [
    "## Next Questions"
   ]
  },
  {
   "cell_type": "markdown",
   "metadata": {},
   "source": [
    "Let us recap what we have done in this workshop.\n",
    "\n",
    "* We figured out a way of ingesting and cleansing using the ```pandas``` package and the regular expression framework of pattern recognition within text.\n",
    "\n",
    "* We used a set of language processing tools to develop summary statistics on the words found at the document level and the corpus level.\n",
    "\n",
    "* We then walked through a method of how we can encode our language to be a set of numerical features in a **prediction pipeline**, a structure that takes in a set of inputs (or features) and gives us a set of predictive outputs.\n",
    "\n",
    "* We then used this encoding to predict the age of the writer of said documents using logistic regression.\n",
    "\n",
    "There are a couple of questions we may be left with when we finish this process.\n",
    "\n",
    "* Our model of language is rather unrealistic, but it seems to give us a feature set that predicts Millenialism very well. Some would argue, does the model of language truly matter? I would argue that it actually does. In particular, if we want to make stronger inferential statements about how our language informs a particular outcome variable, we need to have a deeper representation of how our language is encoded beyond word frequencies.\n",
    "\n",
    "* The logistic regression model is only one way of modeling the probability of a binary outcome. Why do we choose just a sigmoidal structure? What if the true conditional probability distribution of $isMillenial$ is given our features ($X$) is slightly different? These become questions that **statistical modeling** and **machine learning** are concerned with.\n",
    "\n",
    "* What is the impact of an imbalanced classes problem on the binary classification task?\n",
    "\n",
    "* How might I be able to incorporate out-of-vocabulary features in my language into my current model?\n",
    "\n",
    "* How might I make my model more flexible to documents and contexts outside of OkCupid Profiles? Is this a worthwhile goal to achieve?\n",
    "\n",
    "For some of these questions, I recommend looking into some of the [Reference Materials](#refMaterials) that I would list below. There are many potential applications of using language data, and today we only worked on a rather simple one. Hopefully, I have given you a decent start on finding ways to manipulate language data on your own. Thank you!"
   ]
  },
  {
   "cell_type": "markdown",
   "metadata": {},
   "source": [
    "<a id=\"refMaterials\" />"
   ]
  },
  {
   "cell_type": "markdown",
   "metadata": {},
   "source": [
    "## Reference Materials"
   ]
  },
  {
   "cell_type": "code",
   "execution_count": null,
   "metadata": {
    "collapsed": true
   },
   "outputs": [],
   "source": []
  }
 ],
 "metadata": {
  "kernelspec": {
   "display_name": "Python 2",
   "language": "python",
   "name": "python2"
  },
  "language_info": {
   "codemirror_mode": {
    "name": "ipython",
    "version": 2
   },
   "file_extension": ".py",
   "mimetype": "text/x-python",
   "name": "python",
   "nbconvert_exporter": "python",
   "pygments_lexer": "ipython2",
   "version": "2.7.10"
  },
  "latex_envs": {
   "bibliofile": "biblio.bib",
   "cite_by": "apalike",
   "current_citInitial": 1,
   "eqLabelWithNumbers": true,
   "eqNumInitial": 0
  },
  "nav_menu": {},
  "toc": {
   "navigate_menu": true,
   "number_sections": false,
   "sideBar": true,
   "threshold": 6,
   "toc_cell": false,
   "toc_section_display": "block",
   "toc_window_display": false
  },
  "toc_position": {
   "height": "605px",
   "left": "0px",
   "right": "auto",
   "top": "106px",
   "width": "212px"
  }
 },
 "nbformat": 4,
 "nbformat_minor": 1
}
